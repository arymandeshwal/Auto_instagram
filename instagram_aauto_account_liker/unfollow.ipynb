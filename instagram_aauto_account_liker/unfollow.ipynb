{
 "cells": [
  {
   "cell_type": "code",
   "execution_count": 21,
   "metadata": {},
   "outputs": [],
   "source": [
    "from instapy import InstaPy"
   ]
  },
  {
   "cell_type": "code",
   "execution_count": 22,
   "metadata": {},
   "outputs": [
    {
     "name": "stderr",
     "output_type": "stream",
     "text": [
      "INFO [2020-11-29 22:29:39] [_fifty_shades_of_us_]  Workspace in use: \"C:/Users/Admin/InstaPy\"\n"
     ]
    },
    {
     "name": "stdout",
     "output_type": "stream",
     "text": [
      "InstaPy Version: 0.6.12\n",
      " ._.  ._.  ._.  ._.  ._.  ._.  ._.  ._.  ._.  ._.  ._.  ._.  ._.  ._.  ._.  ._.  ._.  ._.  ._. \n"
     ]
    },
    {
     "name": "stderr",
     "output_type": "stream",
     "text": [
      "INFO [2020-11-29 22:30:06] [_fifty_shades_of_us_]  Session started!\n"
     ]
    },
    {
     "name": "stdout",
     "output_type": "stream",
     "text": [
      "OOOOOOOOOOOOOOOOOOOOOOOOOOOOOOOOOOOOOOOOOOOOOOOOOOOOOO\n",
      "oooooooooooooooooooooooooooooooooooooooooooooooooooooo\n"
     ]
    }
   ],
   "source": [
    "session = InstaPy(username=\"_fifty_shades_of_us_\", password=\"Aryman9811605301\")"
   ]
  },
  {
   "cell_type": "code",
   "execution_count": 23,
   "metadata": {},
   "outputs": [
    {
     "name": "stderr",
     "output_type": "stream",
     "text": [
      "INFO [2020-11-29 22:30:06] [_fifty_shades_of_us_]  -- Connection Checklist [1/2] (Internet Connection Status)\n",
      "INFO [2020-11-29 22:30:08] [_fifty_shades_of_us_]  - Internet Connection Status: ok\n",
      "INFO [2020-11-29 22:30:08] [_fifty_shades_of_us_]  - Current IP is \"223.233.96.153\" and it's from \"India/IN\"\n",
      "INFO [2020-11-29 22:30:08] [_fifty_shades_of_us_]  -- Connection Checklist [2/2] (Hide Selenium Extension)\n",
      "INFO [2020-11-29 22:30:08] [_fifty_shades_of_us_]  - window.navigator.webdriver response: None\n",
      "INFO [2020-11-29 22:30:08] [_fifty_shades_of_us_]  - Hide Selenium Extension: ok\n",
      "INFO [2020-11-29 22:30:27] [_fifty_shades_of_us_]  Logged in successfully!\n",
      "INFO [2020-11-29 22:30:27] [_fifty_shades_of_us_]  Saving account progress...\n"
     ]
    },
    {
     "name": "stdout",
     "output_type": "stream",
     "text": [
      "..........................................................................\n",
      "''''''''''''''''''''''''''''''''''''''''''''''''''''''''''''''''''''''''''\n"
     ]
    },
    {
     "data": {
      "text/plain": [
       "<instapy.instapy.InstaPy at 0x226f83ca4c0>"
      ]
     },
     "execution_count": 23,
     "metadata": {},
     "output_type": "execute_result"
    }
   ],
   "source": [
    "session.login()"
   ]
  },
  {
   "cell_type": "code",
   "execution_count": 24,
   "metadata": {},
   "outputs": [],
   "source": [
    "#dir(session)"
   ]
  },
  {
   "cell_type": "code",
   "execution_count": 25,
   "metadata": {},
   "outputs": [
    {
     "name": "stderr",
     "output_type": "stream",
     "text": [
      "INFO [2020-11-29 22:30:45] [_fifty_shades_of_us_]  Starting to get the `Following` data..\n",
      "INFO [2020-11-29 22:30:45] [_fifty_shades_of_us_]  Retrieving live `Following` data of _fifty_shades_of_us_ at \"full\" range\n"
     ]
    },
    {
     "name": "stdout",
     "output_type": "stream",
     "text": [
      "_________________________________________________________________________________________\n",
      "\"\"\"\"\"\"\"\"\"\"\"\"\"\"\"\"\"\"\"\"\"\"\"\"\"\"\"\"\"\"\"\"\"\"\"\"\"\"\"\"\"\"\"\"\"\"\"\"\"\"\"\"\"\"\"\"\"\"\"\"\"\"\"\"\"\"\"\"\"\"\"\"\"\"\"\"\"\"\"\"\"\"\"\"\"\"\"\"\"\n",
      "  48/49 [===================================+]  97%    |> Elapsed: 2.48 seconds    |> ETA: 0.07 seconds      "
     ]
    },
    {
     "name": "stderr",
     "output_type": "stream",
     "text": [
      "INFO [2020-11-29 22:30:51] [_fifty_shades_of_us_]  Grabbed 48 usernames from `Following` in 2.48 seconds\n",
      "INFO [2020-11-29 22:30:51] [_fifty_shades_of_us_]  Stored `Following` data at C:\\Users\\Admin\\InstaPy\\logs\\_fifty_shades_of_us_\\/relationship_data/_fifty_shades_of_us_/following/29-11-2020~full~48.json local file\n",
      "INFO [2020-11-29 22:30:51] [_fifty_shades_of_us_]  Zz :[ time to take a good nap  ~sleeping 6.0 seconds\n"
     ]
    },
    {
     "name": "stdout",
     "output_type": "stream",
     "text": [
      "\n",
      "\n",
      "\n"
     ]
    },
    {
     "name": "stderr",
     "output_type": "stream",
     "text": [
      "INFO [2020-11-29 22:30:55] [_fifty_shades_of_us_]  Yawn :] let's go!\n",
      "\n"
     ]
    }
   ],
   "source": [
    "usernames = session.grab_following(username=\"_fifty_shades_of_us_\", amount=\"full\")"
   ]
  },
  {
   "cell_type": "code",
   "execution_count": 26,
   "metadata": {},
   "outputs": [],
   "source": [
    "#print(usernames)"
   ]
  },
  {
   "cell_type": "code",
   "execution_count": 27,
   "metadata": {},
   "outputs": [],
   "source": [
    "#import inspect"
   ]
  },
  {
   "cell_type": "code",
   "execution_count": 28,
   "metadata": {},
   "outputs": [],
   "source": [
    "#print(inspect.getfullargspec(session.unfollow_users))"
   ]
  },
  {
   "cell_type": "code",
   "execution_count": 29,
   "metadata": {},
   "outputs": [
    {
     "name": "stderr",
     "output_type": "stream",
     "text": [
      "INFO [2020-11-29 22:30:56] [_fifty_shades_of_us_]  Starting to unfollow users..\n",
      "ERROR [2020-11-29 22:30:56] [_fifty_shades_of_us_]  Error occurred while generating a user list from the followed pool!\n",
      "\tb\"[Errno 2] No such file or directory: 'C:\\\\\\\\Users\\\\\\\\Admin\\\\\\\\InstaPy\\\\\\\\logs\\\\\\\\_fifty_shades_of_us_\\\\\\\\_fifty_shades_of_us__followedPool.csv'\"\n"
     ]
    },
    {
     "name": "stdout",
     "output_type": "stream",
     "text": [
      "_______________________________________________________________________________\n",
      "\"\"\"\"\"\"\"\"\"\"\"\"\"\"\"\"\"\"\"\"\"\"\"\"\"\"\"\"\"\"\"\"\"\"\"\"\"\"\"\"\"\"\"\"\"\"\"\"\"\"\"\"\"\"\"\"\"\"\"\"\"\"\"\"\"\"\"\"\"\"\"\"\"\"\"\"\"\"\"\n"
     ]
    },
    {
     "name": "stderr",
     "output_type": "stream",
     "text": [
      "INFO [2020-11-29 22:30:59] [_fifty_shades_of_us_]  Unfollowing from the list of pre-defined usernames\n",
      "\n",
      "INFO [2020-11-29 22:30:59] [_fifty_shades_of_us_]  Total 48 users available to unfollow  ~not found in 'followedPool.csv': 48  |  didn't pass `unfollow_after`: 0\n",
      "\n",
      "INFO [2020-11-29 22:30:59] [_fifty_shades_of_us_]  Ongoing Unfollow [1/48]: now unfollowing 'b'rogeriobatistajr''...\n",
      "INFO [2020-11-29 22:31:38] [_fifty_shades_of_us_]  Last unfollow is verified after reloading the page!\n",
      "INFO [2020-11-29 22:31:38] [_fifty_shades_of_us_]  --> Unfollowed 'rogeriobatistajr'!\n",
      "INFO [2020-11-29 22:31:48] [_fifty_shades_of_us_]  Ongoing Unfollow [2/48]: now unfollowing 'b'specialkcurcione''...\n",
      "INFO [2020-11-29 22:32:26] [_fifty_shades_of_us_]  Last unfollow is verified after reloading the page!\n",
      "INFO [2020-11-29 22:32:26] [_fifty_shades_of_us_]  --> Unfollowed 'specialkcurcione'!\n",
      "INFO [2020-11-29 22:32:38] [_fifty_shades_of_us_]  Ongoing Unfollow [3/48]: now unfollowing 'b'jamesalexanderbright''...\n",
      "INFO [2020-11-29 22:33:16] [_fifty_shades_of_us_]  Last unfollow is verified after reloading the page!\n",
      "INFO [2020-11-29 22:33:16] [_fifty_shades_of_us_]  --> Unfollowed 'jamesalexanderbright'!\n",
      "INFO [2020-11-29 22:33:27] [_fifty_shades_of_us_]  Ongoing Unfollow [4/48]: now unfollowing 'b'minskole''...\n",
      "INFO [2020-11-29 22:34:00] [_fifty_shades_of_us_]  Last unfollow is verified after reloading the page!\n",
      "INFO [2020-11-29 22:34:00] [_fifty_shades_of_us_]  --> Unfollowed 'minskole'!\n",
      "INFO [2020-11-29 22:34:11] [_fifty_shades_of_us_]  Ongoing Unfollow [5/48]: now unfollowing 'b'molly.feifei''...\n",
      "INFO [2020-11-29 22:34:47] [_fifty_shades_of_us_]  Last unfollow is verified after reloading the page!\n",
      "INFO [2020-11-29 22:34:47] [_fifty_shades_of_us_]  --> Unfollowed 'molly.feifei'!\n",
      "INFO [2020-11-29 22:34:58] [_fifty_shades_of_us_]  Ongoing Unfollow [6/48]: now unfollowing 'b'lojausedoga''...\n",
      "INFO [2020-11-29 22:35:35] [_fifty_shades_of_us_]  Last unfollow is verified after reloading the page!\n",
      "INFO [2020-11-29 22:35:35] [_fifty_shades_of_us_]  --> Unfollowed 'lojausedoga'!\n",
      "INFO [2020-11-29 22:35:41] [_fifty_shades_of_us_]  Ongoing Unfollow [7/48]: now unfollowing 'b'sushi_themaltipoo''...\n",
      "INFO [2020-11-29 22:36:18] [_fifty_shades_of_us_]  Last unfollow is verified after reloading the page!\n",
      "INFO [2020-11-29 22:36:18] [_fifty_shades_of_us_]  --> Unfollowed 'sushi_themaltipoo'!\n",
      "INFO [2020-11-29 22:36:30] [_fifty_shades_of_us_]  Ongoing Unfollow [8/48]: now unfollowing 'b'maykomay''...\n",
      "INFO [2020-11-29 22:37:07] [_fifty_shades_of_us_]  Last unfollow is verified after reloading the page!\n",
      "INFO [2020-11-29 22:37:07] [_fifty_shades_of_us_]  --> Unfollowed 'maykomay'!\n",
      "INFO [2020-11-29 22:37:20] [_fifty_shades_of_us_]  Unfollowed 8 new users  ~sleeping about 10.03 minutes\n",
      "\n",
      "INFO [2020-11-29 22:48:15] [_fifty_shades_of_us_]  Ongoing Unfollow [9/48]: now unfollowing 'b'loewin_81''...\n",
      "INFO [2020-11-29 22:48:52] [_fifty_shades_of_us_]  Last unfollow is verified after reloading the page!\n",
      "INFO [2020-11-29 22:48:52] [_fifty_shades_of_us_]  --> Unfollowed 'loewin_81'!\n",
      "INFO [2020-11-29 22:49:01] [_fifty_shades_of_us_]  Ongoing Unfollow [10/48]: now unfollowing 'b'kitty___space''...\n",
      "INFO [2020-11-29 22:49:37] [_fifty_shades_of_us_]  Last unfollow is verified after reloading the page!\n",
      "INFO [2020-11-29 22:49:37] [_fifty_shades_of_us_]  --> Unfollowed 'kitty___space'!\n",
      "INFO [2020-11-29 22:49:49] [_fifty_shades_of_us_]  Ongoing Unfollow [11/48]: now unfollowing 'b'littleeasels.uk''...\n",
      "INFO [2020-11-29 22:50:28] [_fifty_shades_of_us_]  Last unfollow is verified after reloading the page!\n",
      "INFO [2020-11-29 22:50:28] [_fifty_shades_of_us_]  --> Unfollowed 'littleeasels.uk'!\n",
      "INFO [2020-11-29 22:50:39] [_fifty_shades_of_us_]  Ongoing Unfollow [12/48]: now unfollowing 'b'millierose.nz''...\n",
      "INFO [2020-11-29 22:51:17] [_fifty_shades_of_us_]  Last unfollow is verified after reloading the page!\n",
      "INFO [2020-11-29 22:51:17] [_fifty_shades_of_us_]  --> Unfollowed 'millierose.nz'!\n",
      "INFO [2020-11-29 22:51:31] [_fifty_shades_of_us_]  Ongoing Unfollow [13/48]: now unfollowing 'b'badschussenried_memes''...\n",
      "INFO [2020-11-29 22:52:07] [_fifty_shades_of_us_]  Last unfollow is verified after reloading the page!\n",
      "INFO [2020-11-29 22:52:07] [_fifty_shades_of_us_]  --> Unfollowed 'badschussenried_memes'!\n",
      "INFO [2020-11-29 22:52:19] [_fifty_shades_of_us_]  Ongoing Unfollow [14/48]: now unfollowing 'b'balithedoog''...\n",
      "INFO [2020-11-29 22:52:56] [_fifty_shades_of_us_]  Last unfollow is verified after reloading the page!\n",
      "INFO [2020-11-29 22:52:56] [_fifty_shades_of_us_]  --> Unfollowed 'balithedoog'!\n",
      "INFO [2020-11-29 22:53:05] [_fifty_shades_of_us_]  Ongoing Unfollow [15/48]: now unfollowing 'b'lincoln_reptile_and_pet_centre''...\n",
      "INFO [2020-11-29 22:53:43] [_fifty_shades_of_us_]  Last unfollow is verified after reloading the page!\n",
      "INFO [2020-11-29 22:53:43] [_fifty_shades_of_us_]  --> Unfollowed 'lincoln_reptile_and_pet_centre'!\n",
      "INFO [2020-11-29 22:53:53] [_fifty_shades_of_us_]  Ongoing Unfollow [16/48]: now unfollowing 'b'spinoneitaliano_garibaldi''...\n",
      "INFO [2020-11-29 22:54:30] [_fifty_shades_of_us_]  Last unfollow is verified after reloading the page!\n",
      "INFO [2020-11-29 22:54:30] [_fifty_shades_of_us_]  --> Unfollowed 'spinoneitaliano_garibaldi'!\n",
      "INFO [2020-11-29 22:54:39] [_fifty_shades_of_us_]  Ongoing Unfollow [17/48]: now unfollowing 'b'mymusings_inpics''...\n",
      "INFO [2020-11-29 22:55:14] [_fifty_shades_of_us_]  Last unfollow is verified after reloading the page!\n",
      "INFO [2020-11-29 22:55:14] [_fifty_shades_of_us_]  --> Unfollowed 'mymusings_inpics'!\n",
      "INFO [2020-11-29 22:55:24] [_fifty_shades_of_us_]  Ongoing Unfollow [18/48]: now unfollowing 'b'funnoledge''...\n",
      "INFO [2020-11-29 22:56:01] [_fifty_shades_of_us_]  Last unfollow is verified after reloading the page!\n",
      "INFO [2020-11-29 22:56:01] [_fifty_shades_of_us_]  --> Unfollowed 'funnoledge'!\n",
      "INFO [2020-11-29 22:56:14] [_fifty_shades_of_us_]  Ongoing Unfollow [19/48]: now unfollowing 'b'weneedmoredogs''...\n",
      "INFO [2020-11-29 22:56:51] [_fifty_shades_of_us_]  Last unfollow is verified after reloading the page!\n",
      "INFO [2020-11-29 22:56:51] [_fifty_shades_of_us_]  --> Unfollowed 'weneedmoredogs'!\n",
      "INFO [2020-11-29 22:57:02] [_fifty_shades_of_us_]  Ongoing Unfollow [20/48]: now unfollowing 'b'python.hub''...\n",
      "INFO [2020-11-29 22:57:37] [_fifty_shades_of_us_]  Last unfollow is verified after reloading the page!\n",
      "INFO [2020-11-29 22:57:37] [_fifty_shades_of_us_]  --> Unfollowed 'python.hub'!\n",
      "INFO [2020-11-29 22:57:49] [_fifty_shades_of_us_]  Unfollowed 12 new users  ~sleeping about 9.36 minutes\n",
      "\n",
      "INFO [2020-11-29 23:09:28] [_fifty_shades_of_us_]  Ongoing Unfollow [21/48]: now unfollowing 'b'codes.learning''...\n",
      "INFO [2020-11-29 23:10:04] [_fifty_shades_of_us_]  Last unfollow is verified after reloading the page!\n",
      "INFO [2020-11-29 23:10:04] [_fifty_shades_of_us_]  --> Unfollowed 'codes.learning'!\n",
      "INFO [2020-11-29 23:10:15] [_fifty_shades_of_us_]  Ongoing Unfollow [22/48]: now unfollowing 'b'petsgolfofficial''...\n",
      "INFO [2020-11-29 23:10:51] [_fifty_shades_of_us_]  Last unfollow is verified after reloading the page!\n",
      "INFO [2020-11-29 23:10:51] [_fifty_shades_of_us_]  --> Unfollowed 'petsgolfofficial'!\n",
      "INFO [2020-11-29 23:11:02] [_fifty_shades_of_us_]  Ongoing Unfollow [23/48]: now unfollowing 'b'babypet_vibes''...\n",
      "INFO [2020-11-29 23:11:38] [_fifty_shades_of_us_]  Last unfollow is verified after reloading the page!\n",
      "INFO [2020-11-29 23:11:38] [_fifty_shades_of_us_]  --> Unfollowed 'babypet_vibes'!\n",
      "INFO [2020-11-29 23:11:50] [_fifty_shades_of_us_]  Ongoing Unfollow [24/48]: now unfollowing 'b'goldenretriever_lilly''...\n",
      "INFO [2020-11-29 23:12:26] [_fifty_shades_of_us_]  Last unfollow is verified after reloading the page!\n",
      "INFO [2020-11-29 23:12:26] [_fifty_shades_of_us_]  --> Unfollowed 'goldenretriever_lilly'!\n",
      "INFO [2020-11-29 23:12:38] [_fifty_shades_of_us_]  Ongoing Unfollow [25/48]: now unfollowing 'b'simranjat_''...\n",
      "INFO [2020-11-29 23:13:14] [_fifty_shades_of_us_]  Last unfollow is verified after reloading the page!\n",
      "INFO [2020-11-29 23:13:14] [_fifty_shades_of_us_]  --> Unfollowed 'simranjat_'!\n",
      "INFO [2020-11-29 23:13:25] [_fifty_shades_of_us_]  Ongoing Unfollow [26/48]: now unfollowing 'b'rafaelmedioni''...\n"
     ]
    },
    {
     "name": "stderr",
     "output_type": "stream",
     "text": [
      "INFO [2020-11-29 23:14:02] [_fifty_shades_of_us_]  Last unfollow is verified after reloading the page!\n",
      "INFO [2020-11-29 23:14:02] [_fifty_shades_of_us_]  --> Unfollowed 'rafaelmedioni'!\n",
      "INFO [2020-11-29 23:14:15] [_fifty_shades_of_us_]  Ongoing Unfollow [27/48]: now unfollowing 'b'cats_kitten123''...\n",
      "INFO [2020-11-29 23:14:51] [_fifty_shades_of_us_]  Last unfollow is verified after reloading the page!\n",
      "INFO [2020-11-29 23:14:51] [_fifty_shades_of_us_]  --> Unfollowed 'cats_kitten123'!\n",
      "INFO [2020-11-29 23:15:03] [_fifty_shades_of_us_]  Ongoing Unfollow [28/48]: now unfollowing 'b'elephantplanet1''...\n",
      "INFO [2020-11-29 23:15:40] [_fifty_shades_of_us_]  Last unfollow is verified after reloading the page!\n",
      "INFO [2020-11-29 23:15:40] [_fifty_shades_of_us_]  --> Unfollowed 'elephantplanet1'!\n",
      "INFO [2020-11-29 23:15:50] [_fifty_shades_of_us_]  Unfollowed 8 new users  ~sleeping about 10.81 minutes\n",
      "\n",
      "INFO [2020-11-29 23:26:03] [_fifty_shades_of_us_]  Ongoing Unfollow [29/48]: now unfollowing 'b'moodforpets''...\n",
      "INFO [2020-11-29 23:26:41] [_fifty_shades_of_us_]  Last unfollow is verified after reloading the page!\n",
      "INFO [2020-11-29 23:26:41] [_fifty_shades_of_us_]  --> Unfollowed 'moodforpets'!\n",
      "INFO [2020-11-29 23:26:53] [_fifty_shades_of_us_]  Ongoing Unfollow [30/48]: now unfollowing 'b'oye_panda''...\n",
      "INFO [2020-11-29 23:27:29] [_fifty_shades_of_us_]  Last unfollow is verified after reloading the page!\n",
      "INFO [2020-11-29 23:27:29] [_fifty_shades_of_us_]  --> Unfollowed 'oye_panda'!\n",
      "INFO [2020-11-29 23:27:40] [_fifty_shades_of_us_]  Ongoing Unfollow [31/48]: now unfollowing 'b'nrityangana_manisha_official''...\n",
      "INFO [2020-11-29 23:28:17] [_fifty_shades_of_us_]  Last unfollow is verified after reloading the page!\n",
      "INFO [2020-11-29 23:28:17] [_fifty_shades_of_us_]  --> Unfollowed 'nrityangana_manisha_official'!\n",
      "INFO [2020-11-29 23:28:26] [_fifty_shades_of_us_]  Ongoing Unfollow [32/48]: now unfollowing 'b'pythontechzz''...\n",
      "INFO [2020-11-29 23:29:01] [_fifty_shades_of_us_]  Last unfollow is verified after reloading the page!\n",
      "INFO [2020-11-29 23:29:01] [_fifty_shades_of_us_]  --> Unfollowed 'pythontechzz'!\n",
      "INFO [2020-11-29 23:29:12] [_fifty_shades_of_us_]  Ongoing Unfollow [33/48]: now unfollowing 'b'catslovings''...\n",
      "INFO [2020-11-29 23:29:48] [_fifty_shades_of_us_]  Last unfollow is verified after reloading the page!\n",
      "INFO [2020-11-29 23:29:48] [_fifty_shades_of_us_]  --> Unfollowed 'catslovings'!\n",
      "INFO [2020-11-29 23:29:59] [_fifty_shades_of_us_]  Ongoing Unfollow [34/48]: now unfollowing 'b'tacoseltijuanazo''...\n",
      "INFO [2020-11-29 23:30:35] [_fifty_shades_of_us_]  Last unfollow is verified after reloading the page!\n",
      "INFO [2020-11-29 23:30:35] [_fifty_shades_of_us_]  --> Unfollowed 'tacoseltijuanazo'!\n",
      "INFO [2020-11-29 23:30:48] [_fifty_shades_of_us_]  Ongoing Unfollow [35/48]: now unfollowing 'b'busravelipasaoglu''...\n",
      "INFO [2020-11-29 23:31:24] [_fifty_shades_of_us_]  Last unfollow is verified after reloading the page!\n",
      "INFO [2020-11-29 23:31:24] [_fifty_shades_of_us_]  --> Unfollowed 'busravelipasaoglu'!\n",
      "INFO [2020-11-29 23:31:33] [_fifty_shades_of_us_]  Ongoing Unfollow [36/48]: now unfollowing 'b'cuteaworld''...\n",
      "INFO [2020-11-29 23:32:07] [_fifty_shades_of_us_]  Last unfollow is verified after reloading the page!\n",
      "INFO [2020-11-29 23:32:07] [_fifty_shades_of_us_]  --> Unfollowed 'cuteaworld'!\n",
      "INFO [2020-11-29 23:32:18] [_fifty_shades_of_us_]  Unfollowed 8 new users  ~sleeping about 8.75 minutes\n",
      "\n",
      "INFO [2020-11-29 23:42:56] [_fifty_shades_of_us_]  Ongoing Unfollow [37/48]: now unfollowing 'b'shufflewithakanksha''...\n",
      "INFO [2020-11-29 23:43:32] [_fifty_shades_of_us_]  Last unfollow is verified after reloading the page!\n",
      "INFO [2020-11-29 23:43:32] [_fifty_shades_of_us_]  --> Unfollowed 'shufflewithakanksha'!\n",
      "INFO [2020-11-29 23:43:42] [_fifty_shades_of_us_]  Ongoing Unfollow [38/48]: now unfollowing 'b'3epanda''...\n",
      "INFO [2020-11-29 23:44:18] [_fifty_shades_of_us_]  Last unfollow is verified after reloading the page!\n",
      "INFO [2020-11-29 23:44:18] [_fifty_shades_of_us_]  --> Unfollowed '3epanda'!\n",
      "INFO [2020-11-29 23:44:30] [_fifty_shades_of_us_]  Ongoing Unfollow [39/48]: now unfollowing 'b'cutehappycats''...\n",
      "INFO [2020-11-29 23:45:07] [_fifty_shades_of_us_]  Last unfollow is verified after reloading the page!\n",
      "INFO [2020-11-29 23:45:07] [_fifty_shades_of_us_]  --> Unfollowed 'cutehappycats'!\n",
      "INFO [2020-11-29 23:45:17] [_fifty_shades_of_us_]  Ongoing Unfollow [40/48]: now unfollowing 'b'python.learning''...\n",
      "INFO [2020-11-29 23:45:52] [_fifty_shades_of_us_]  Last unfollow is verified after reloading the page!\n",
      "INFO [2020-11-29 23:45:52] [_fifty_shades_of_us_]  --> Unfollowed 'python.learning'!\n",
      "INFO [2020-11-29 23:46:04] [_fifty_shades_of_us_]  Ongoing Unfollow [41/48]: now unfollowing 'b'animalifestory''...\n",
      "INFO [2020-11-29 23:46:39] [_fifty_shades_of_us_]  Last unfollow is verified after reloading the page!\n",
      "INFO [2020-11-29 23:46:39] [_fifty_shades_of_us_]  --> Unfollowed 'animalifestory'!\n",
      "INFO [2020-11-29 23:46:50] [_fifty_shades_of_us_]  Ongoing Unfollow [42/48]: now unfollowing 'b'animalovestory''...\n",
      "INFO [2020-11-29 23:47:27] [_fifty_shades_of_us_]  Last unfollow is verified after reloading the page!\n",
      "INFO [2020-11-29 23:47:27] [_fifty_shades_of_us_]  --> Unfollowed 'animalovestory'!\n",
      "INFO [2020-11-29 23:47:41] [_fifty_shades_of_us_]  Ongoing Unfollow [43/48]: now unfollowing 'b'lillykofficial''...\n",
      "INFO [2020-11-29 23:48:18] [_fifty_shades_of_us_]  Last unfollow is verified after reloading the page!\n",
      "INFO [2020-11-29 23:48:18] [_fifty_shades_of_us_]  --> Unfollowed 'lillykofficial'!\n",
      "INFO [2020-11-29 23:48:28] [_fifty_shades_of_us_]  Ongoing Unfollow [44/48]: now unfollowing 'b'pressleyhosbach''...\n",
      "INFO [2020-11-29 23:49:04] [_fifty_shades_of_us_]  Last unfollow is verified after reloading the page!\n",
      "INFO [2020-11-29 23:49:04] [_fifty_shades_of_us_]  --> Unfollowed 'pressleyhosbach'!\n",
      "INFO [2020-11-29 23:49:14] [_fifty_shades_of_us_]  Ongoing Unfollow [45/48]: now unfollowing 'b'_loveablecats''...\n",
      "INFO [2020-11-29 23:49:51] [_fifty_shades_of_us_]  Last unfollow is verified after reloading the page!\n",
      "INFO [2020-11-29 23:49:51] [_fifty_shades_of_us_]  --> Unfollowed '_loveablecats'!\n",
      "INFO [2020-11-29 23:50:03] [_fifty_shades_of_us_]  Ongoing Unfollow [46/48]: now unfollowing 'b'lali.dolls''...\n",
      "INFO [2020-11-29 23:50:41] [_fifty_shades_of_us_]  Last unfollow is verified after reloading the page!\n",
      "INFO [2020-11-29 23:50:41] [_fifty_shades_of_us_]  --> Unfollowed 'lali.dolls'!\n",
      "INFO [2020-11-29 23:50:54] [_fifty_shades_of_us_]  Ongoing Unfollow [47/48]: now unfollowing 'b'pawtix''...\n",
      "INFO [2020-11-29 23:51:29] [_fifty_shades_of_us_]  Last unfollow is verified after reloading the page!\n",
      "INFO [2020-11-29 23:51:29] [_fifty_shades_of_us_]  --> Unfollowed 'pawtix'!\n",
      "INFO [2020-11-29 23:51:39] [_fifty_shades_of_us_]  Ongoing Unfollow [48/48]: now unfollowing 'b'thisdogcalledcharlie''...\n",
      "INFO [2020-11-29 23:52:15] [_fifty_shades_of_us_]  Last unfollow is verified after reloading the page!\n",
      "INFO [2020-11-29 23:52:15] [_fifty_shades_of_us_]  --> Unfollowed 'thisdogcalledcharlie'!\n",
      "INFO [2020-11-29 23:52:28] [_fifty_shades_of_us_]  --> Total people unfollowed : 48\n",
      "\n"
     ]
    },
    {
     "data": {
      "text/plain": [
       "<instapy.instapy.InstaPy at 0x226f83ca4c0>"
      ]
     },
     "execution_count": 29,
     "metadata": {},
     "output_type": "execute_result"
    }
   ],
   "source": [
    "session.unfollow_users(amount = len(usernames),custom_list_enabled=True,custom_list = usernames,allFollowing = True)"
   ]
  },
  {
   "cell_type": "code",
   "execution_count": null,
   "metadata": {},
   "outputs": [],
   "source": []
  }
 ],
 "metadata": {
  "kernelspec": {
   "display_name": "Python 3",
   "language": "python",
   "name": "python3"
  },
  "language_info": {
   "codemirror_mode": {
    "name": "ipython",
    "version": 3
   },
   "file_extension": ".py",
   "mimetype": "text/x-python",
   "name": "python",
   "nbconvert_exporter": "python",
   "pygments_lexer": "ipython3",
   "version": "3.8.2"
  }
 },
 "nbformat": 4,
 "nbformat_minor": 4
}
