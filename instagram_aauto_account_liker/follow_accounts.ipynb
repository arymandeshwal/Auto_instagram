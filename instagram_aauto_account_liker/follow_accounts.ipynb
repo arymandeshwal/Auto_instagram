{
 "cells": [
  {
   "cell_type": "code",
   "execution_count": 1,
   "metadata": {},
   "outputs": [],
   "source": [
    "from selenium import webdriver\n",
    "from selenium.webdriver.common.keys import Keys\n",
    "import time\n",
    "import pandas as pd\n",
    "import os"
   ]
  },
  {
   "cell_type": "code",
   "execution_count": 2,
   "metadata": {},
   "outputs": [
    {
     "data": {
      "text/plain": [
       "(431, 1)"
      ]
     },
     "execution_count": 2,
     "metadata": {},
     "output_type": "execute_result"
    }
   ],
   "source": [
    "df = pd.read_csv(\"completed.csv\")\n",
    "df.shape"
   ]
  },
  {
   "cell_type": "code",
   "execution_count": 3,
   "metadata": {},
   "outputs": [],
   "source": [
    "#df = pd.DataFrame({\"links\":[]})\n",
    "#df.to_csv(\"followed.csv\",index = False)"
   ]
  },
  {
   "cell_type": "code",
   "execution_count": 4,
   "metadata": {},
   "outputs": [
    {
     "data": {
      "text/plain": [
       "(98, 1)"
      ]
     },
     "execution_count": 4,
     "metadata": {},
     "output_type": "execute_result"
    }
   ],
   "source": [
    "df2 =pd.read_csv(\"followed.csv\")\n",
    "df2.shape"
   ]
  },
  {
   "cell_type": "code",
   "execution_count": 5,
   "metadata": {},
   "outputs": [],
   "source": [
    "unfollowed = df.links.to_list()\n",
    "followed = df2.links.to_list()"
   ]
  },
  {
   "cell_type": "code",
   "execution_count": 6,
   "metadata": {},
   "outputs": [],
   "source": [
    "common = set(followed).intersection(set(unfollowed))"
   ]
  },
  {
   "cell_type": "code",
   "execution_count": 7,
   "metadata": {},
   "outputs": [
    {
     "name": "stdout",
     "output_type": "stream",
     "text": [
      "416\n"
     ]
    }
   ],
   "source": [
    "to_follow = list(set(unfollowed)-common)\n",
    "completed =[]\n",
    "print(len(to_follow))"
   ]
  },
  {
   "cell_type": "code",
   "execution_count": 8,
   "metadata": {},
   "outputs": [],
   "source": [
    "class Instagram:\n",
    "    def __init__(self,username,password):\n",
    "        self.username = username\n",
    "        self.password = password\n",
    "        self.count_follow = 0\n",
    "        self.bot = webdriver.Firefox()\n",
    "    \n",
    "    def login(self):\n",
    "        bot = self.bot\n",
    "        bot.get('https://www.instagram.com/accounts/login/?source=auth_switcher')\n",
    "        time.sleep(3)\n",
    "        email = bot.find_element_by_name('username')\n",
    "        password = bot.find_element_by_name('password')\n",
    "        email.clear()\n",
    "        password.clear()\n",
    "        email.send_keys(self.username)\n",
    "        password.send_keys(self.password)\n",
    "        password.send_keys(Keys.RETURN)\n",
    "        time.sleep(3)\n",
    "        #notif_dialog = bot.find_element_by_class_name('aOOlW.HoLwm').click()\n",
    "    \n",
    "    def follow(self,link):\n",
    "        bot = self.bot\n",
    "        bot.get(link)\n",
    "        time.sleep(3)\n",
    "        try:\n",
    "            btn = bot.find_element_by_class_name(\"_5f5mN.jIbKX._6VtSN.yZn4P\")\n",
    "            if btn.text == \"Follow\":\n",
    "                btn.click()\n",
    "                #print(\"followed\")\n",
    "                self.count_follow +=1\n",
    "                print(self.count_follow)\n",
    "                completed.append(i)\n",
    "                print(\"Completed: \",len(completed))\n",
    "            else:\n",
    "                print(\"Already followed\")\n",
    "            time.sleep(189)\n",
    "        except:\n",
    "            print(\"Error\")"
   ]
  },
  {
   "cell_type": "code",
   "execution_count": null,
   "metadata": {},
   "outputs": [],
   "source": [
    "usernmae,password ='_fifty_shades_of_us_','Aryman9811605301'\n",
    "ins = Instagram(usernmae,password)\n",
    "ins.login()\n",
    "time.sleep(5)\n",
    "try:\n",
    "    for i in to_follow:\n",
    "        ins.follow(i)\n",
    "except Exception as e:\n",
    "    print(e)"
   ]
  },
  {
   "cell_type": "code",
   "execution_count": null,
   "metadata": {},
   "outputs": [],
   "source": [
    "followed += completed "
   ]
  },
  {
   "cell_type": "code",
   "execution_count": null,
   "metadata": {},
   "outputs": [],
   "source": [
    "if os.path.exists(\"followed.csv\"):\n",
    "    os.remove(\"followed.csv\")\n",
    "\n",
    "followed = pd.DataFrame({\"links\":followed})\n",
    "followed.to_csv(\"followed.csv\",index=False)"
   ]
  },
  {
   "cell_type": "code",
   "execution_count": null,
   "metadata": {},
   "outputs": [],
   "source": []
  },
  {
   "cell_type": "code",
   "execution_count": null,
   "metadata": {},
   "outputs": [],
   "source": []
  }
 ],
 "metadata": {
  "kernelspec": {
   "display_name": "Python 3",
   "language": "python",
   "name": "python3"
  },
  "language_info": {
   "codemirror_mode": {
    "name": "ipython",
    "version": 3
   },
   "file_extension": ".py",
   "mimetype": "text/x-python",
   "name": "python",
   "nbconvert_exporter": "python",
   "pygments_lexer": "ipython3",
   "version": "3.8.2"
  }
 },
 "nbformat": 4,
 "nbformat_minor": 4
}
