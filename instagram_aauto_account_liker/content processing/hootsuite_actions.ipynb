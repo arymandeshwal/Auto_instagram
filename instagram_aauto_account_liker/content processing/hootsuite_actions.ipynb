{
 "cells": [
  {
   "cell_type": "code",
   "execution_count": 3,
   "metadata": {},
   "outputs": [],
   "source": [
    "from selenium import webdriver\n",
    "from selenium.webdriver.common.keys import Keys\n",
    "import time\n",
    "from pathlib import Path\n",
    "import os\n",
    "import random\n",
    "from shutil import copy2\n",
    "#import Collections"
   ]
  },
  {
   "cell_type": "code",
   "execution_count": 2,
   "metadata": {},
   "outputs": [],
   "source": [
    "class Hootsuite:\n",
    "    def __init__(self):\n",
    "        ChromeOptions = webdriver.ChromeOptions()\n",
    "        #ChromeOptions.headless = True\n",
    "        userAgent = \"Mozilla/5.0 (Windows NT 10.0; Win64; x64) AppleWebKit/537.36 (KHTML, like Gecko) Chrome/87.0.4280.66 Safari/537.36\"\n",
    "        ChromeOptions.add_argument(f'user-agent={userAgent}')\n",
    "        self.bot = webdriver.Chrome(options = ChromeOptions)\n",
    "    \n",
    "    def login(self,username,password):\n",
    "        bot = self.bot\n",
    "        bot.get(\"https://hootsuite.com/login\")\n",
    "        time.sleep(5)\n",
    "        l_username = bot.find_element_by_id(\"loginEmailInput\")\n",
    "        l_password = bot.find_element_by_id(\"loginPasswordInput\")\n",
    "        l_username.send_keys(username)\n",
    "        l_password.send_keys(password)\n",
    "        l_password.send_keys(Keys.RETURN)\n",
    "        time.sleep(5)\n",
    "        #print(bot.current_url)\n",
    "        print(\"Logged IN\")\n",
    "    \n",
    "    def create_post(self):\n",
    "        bot = self.bot\n",
    "        #bot.find_element_by_class_name(\"vk-NewPostButton.sc-ezYOhE.eCQgiZ\").click()\n",
    "        bot.find_element_by_xpath('//*[@id=\"globalNavigation\"]/div/div[1]/div[1]/div[1]/div[3]/div[1]/button/div/div').click()\n",
    "        time.sleep(10)\n",
    "        print(\"Created Post\")\n",
    "        \n",
    "        #bot.find_element_by_class_name(\"_mediaUploadDropzoneClickArea.dz-clickable\").click()\n",
    "    \n",
    "    def send_post_details(self,path,title):\n",
    "        bot = self.bot\n",
    "        bot.find_element_by_class_name(\"public-DraftStyleDefault-block.public-DraftStyleDefault-ltr\").send_keys(title+\"\\n\\n\\n\\n#dog #dogsofinstagram #dogs #dogstagram #doglover #dogoftheday #instadog #doglovers #doglife #dogsofinsta #cat #catsofinstagram #cateringjakarta #catnip #catsoftoronto #catgirls #baby #babygirl #babyhamper #babyaccessories #babycloth #babyfeeding #plant #plants #planter #plantparenthood #plantgeek #plantsofinstagram #cute #love\")\n",
    "        time.sleep(1)\n",
    "        file = bot.find_element_by_class_name(\"dz-hidden-input\")\n",
    "        file.send_keys(path)\n",
    "        time.sleep(60)\n",
    "        bot.find_element_by_xpath('//*[@id=\"fullScreenComposerMountPoint\"]/div/div/div/div/div/div[3]/div[3]/button').click()\n",
    "        time.sleep(2)\n",
    "        try:\n",
    "            temp = bot.find_element_by_class_name(\"sc-fTIFLe.bveMJK\").text\n",
    "            print(\"box length ====> {}\".format(len(temp)))\n",
    "            if len(temp) == 65:\n",
    "                print(\"Posted successfully!\")\n",
    "                return \"Posted\"\n",
    "            else:\n",
    "                print(\"THERE WAS AN ERROR WHILE POSTING\")\n",
    "        except Exception as e:\n",
    "            print(\"Posted successfully!\")\n",
    "            print(e)\n",
    "            return \"Posted\"\n",
    "        return \"Error\"\n",
    "    def quit(self):\n",
    "        bot = self.bot\n",
    "        bot.close()\n",
    "        bot.quit()"
   ]
  },
  {
   "cell_type": "code",
   "execution_count": 3,
   "metadata": {},
   "outputs": [
    {
     "name": "stdout",
     "output_type": "stream",
     "text": [
      "Logged IN\n",
      "Created Post\n"
     ]
    }
   ],
   "source": [
    "#Starting the code\n",
    "h = Hootsuite()\n",
    "h.login(\"aryman.deshwal235@gmail.com\",\"Aryman9910390504\")\n",
    "h.create_post()\n",
    "#h.send_post_details(path)"
   ]
  },
  {
   "cell_type": "code",
   "execution_count": 18,
   "metadata": {},
   "outputs": [
    {
     "name": "stdout",
     "output_type": "stream",
     "text": [
      "images_converted\n",
      "Got file path and file title.\n"
     ]
    }
   ],
   "source": [
    "# Getting file path and title\n",
    "folder = random.choices([\"videos_converted\",\"images_converted\"])[0]\n",
    "path = r\"D:\\d_folders\\personal_projects\\instagram_aauto_account_liker\\content processing\\content\\{}\\\\\".format(folder)\n",
    "print(folder)\n",
    "files = os.listdir(path)\n",
    "if len(files) < 2:\n",
    "    print(\"NEED TO DOWNLOAD SOME CONTENT\")\n",
    "title = files[0]\n",
    "title = '.'.join(title.split(\".\")[:-1])\n",
    "file_path = path[:-1]+files[0]\n",
    "file_path,title\n",
    "print(\"Got file path and file title.\")"
   ]
  },
  {
   "cell_type": "code",
   "execution_count": 5,
   "metadata": {},
   "outputs": [
    {
     "name": "stdout",
     "output_type": "stream",
     "text": [
      "box length ====> 65\n",
      "Posted successfully!\n"
     ]
    },
    {
     "ename": "NameError",
     "evalue": "name 'bot' is not defined",
     "output_type": "error",
     "traceback": [
      "\u001b[1;31m---------------------------------------------------------------------------\u001b[0m",
      "\u001b[1;31mNameError\u001b[0m                                 Traceback (most recent call last)",
      "\u001b[1;32m<ipython-input-5-f881279d1118>\u001b[0m in \u001b[0;36m<module>\u001b[1;34m\u001b[0m\n\u001b[0;32m      1\u001b[0m \u001b[1;31m# post output should be \"posted\"\u001b[0m\u001b[1;33m\u001b[0m\u001b[1;33m\u001b[0m\u001b[1;33m\u001b[0m\u001b[0m\n\u001b[0;32m      2\u001b[0m \u001b[0mresult\u001b[0m \u001b[1;33m=\u001b[0m \u001b[0mh\u001b[0m\u001b[1;33m.\u001b[0m\u001b[0msend_post_details\u001b[0m\u001b[1;33m(\u001b[0m\u001b[0mfile_path\u001b[0m\u001b[1;33m,\u001b[0m\u001b[0mtitle\u001b[0m\u001b[1;33m)\u001b[0m\u001b[1;33m\u001b[0m\u001b[1;33m\u001b[0m\u001b[0m\n\u001b[1;32m----> 3\u001b[1;33m \u001b[0mh\u001b[0m\u001b[1;33m.\u001b[0m\u001b[0mquit\u001b[0m\u001b[1;33m(\u001b[0m\u001b[1;33m)\u001b[0m\u001b[1;33m\u001b[0m\u001b[1;33m\u001b[0m\u001b[0m\n\u001b[0m",
      "\u001b[1;32m<ipython-input-2-244efd012461>\u001b[0m in \u001b[0;36mquit\u001b[1;34m(self)\u001b[0m\n\u001b[0;32m     52\u001b[0m         \u001b[1;32mreturn\u001b[0m \u001b[1;34m\"Error\"\u001b[0m\u001b[1;33m\u001b[0m\u001b[1;33m\u001b[0m\u001b[0m\n\u001b[0;32m     53\u001b[0m     \u001b[1;32mdef\u001b[0m \u001b[0mquit\u001b[0m\u001b[1;33m(\u001b[0m\u001b[0mself\u001b[0m\u001b[1;33m)\u001b[0m\u001b[1;33m:\u001b[0m\u001b[1;33m\u001b[0m\u001b[1;33m\u001b[0m\u001b[0m\n\u001b[1;32m---> 54\u001b[1;33m         \u001b[0mbot\u001b[0m\u001b[1;33m.\u001b[0m\u001b[0mclose\u001b[0m\u001b[1;33m(\u001b[0m\u001b[1;33m)\u001b[0m\u001b[1;33m\u001b[0m\u001b[1;33m\u001b[0m\u001b[0m\n\u001b[0m\u001b[0;32m     55\u001b[0m         \u001b[0mbot\u001b[0m\u001b[1;33m.\u001b[0m\u001b[0mquit\u001b[0m\u001b[1;33m(\u001b[0m\u001b[1;33m)\u001b[0m\u001b[1;33m\u001b[0m\u001b[1;33m\u001b[0m\u001b[0m\n",
      "\u001b[1;31mNameError\u001b[0m: name 'bot' is not defined"
     ]
    }
   ],
   "source": [
    "# post output should be \"posted\"\n",
    "result = h.send_post_details(file_path,title)\n",
    "h.quit()"
   ]
  },
  {
   "cell_type": "code",
   "execution_count": 19,
   "metadata": {},
   "outputs": [
    {
     "name": "stdout",
     "output_type": "stream",
     "text": [
      "COPYING => I painted this redditor's pup playing in the snow (oil on canvas), I hope you enjoy!.png to D:\\d_folders\\personal_projects\\instagram_aauto_account_liker\\content processing\\content\\posted\\I painted this redditor's pup playing in the snow (oil on canvas), I hope you enjoy!.png\n",
      "DELETING => I painted this redditor's pup playing in the snow (oil on canvas), I hope you enjoy!.png from D:\\d_folders\\personal_projects\\instagram_aauto_account_liker\\content processing\\content\\images_converted\\I painted this redditor's pup playing in the snow (oil on canvas), I hope you enjoy!.png\n",
      "D:\\d_folders\\personal_projects\\instagram_aauto_account_liker\\content processing\\content\\images\\\n",
      "DELETING => I painted this redditor's pup playing in the snow (oil on canvas), I hope you enjoy!.png from D:\\d_folders\\personal_projects\\instagram_aauto_account_liker\\content processing\\content\\images\\I painted this redditor's pup playing in the snow (oil on canvas), I hope you enjoy!.png\n"
     ]
    }
   ],
   "source": [
    "# Copy and remove posted files\n",
    "ext = file_path.split(\".\")[-1]\n",
    "ext = \".\"+ext\n",
    "result = \"posted\"\n",
    "if result == \"posted\":\n",
    "    dst = r\"D:\\d_folders\\personal_projects\\instagram_aauto_account_liker\\content processing\\content\\posted\\{}\".format(title+ext)\n",
    "    src = file_path\n",
    "    copy2(src,dst)\n",
    "    print(\"COPYING => {} to {}\".format(title+ext, dst))\n",
    "    os.remove(file_path)\n",
    "    print(\"DELETING => {} from {}\".format(title+ext,file_path))\n",
    "    org_path = r\"D:\\d_folders\\personal_projects\\instagram_aauto_account_liker\\content processing\\content\\{}\\\\\".format(str(folder.split('_')[0]))\n",
    "    print(org_path[:-1])\n",
    "    for i in os.listdir(org_path):\n",
    "        temp = \".\".join(i.split('.')[:-1])\n",
    "        if title == temp:\n",
    "            final_path = org_path[:-1]+i \n",
    "            os.remove(final_path)\n",
    "            print(\"DELETING => {} from {}\".format(i,final_path))"
   ]
  },
  {
   "cell_type": "code",
   "execution_count": null,
   "metadata": {},
   "outputs": [],
   "source": []
  }
 ],
 "metadata": {
  "kernelspec": {
   "display_name": "Python 3",
   "language": "python",
   "name": "python3"
  },
  "language_info": {
   "codemirror_mode": {
    "name": "ipython",
    "version": 3
   },
   "file_extension": ".py",
   "mimetype": "text/x-python",
   "name": "python",
   "nbconvert_exporter": "python",
   "pygments_lexer": "ipython3",
   "version": "3.8.2"
  }
 },
 "nbformat": 4,
 "nbformat_minor": 4
}
